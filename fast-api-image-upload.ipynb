{
 "cells": [
  {
   "cell_type": "markdown",
   "id": "5fbc4d7e",
   "metadata": {},
   "source": [
    "### Mainly inspired by this [github gist](https://gist.github.com/raveenb/c0001484a79214c21785227d0688f57f)\n",
    "\n",
    "- the gist implements `ngrok` as well"
   ]
  },
  {
   "cell_type": "markdown",
   "id": "a58e57b1",
   "metadata": {},
   "source": [
    "### [Example of uploading to S3 bucket](https://github.com/gauravgola96/FastAPI-Example/blob/master/api.py)\n",
    "\n",
    "-  interesant de folosit in viitor"
   ]
  },
  {
   "cell_type": "markdown",
   "id": "cb88ce10",
   "metadata": {},
   "source": [
    "### TODOS\n",
    "\n",
    "- [x] find way to delete image after prediction is made\n",
    "- [ ] try to put on `heroku`\n",
    "- [ ] guard: implement image upload cannot be bigger than 12MB\n"
   ]
  },
  {
   "cell_type": "markdown",
   "id": "de3986e7",
   "metadata": {},
   "source": [
    "## Imports"
   ]
  },
  {
   "cell_type": "code",
   "execution_count": 1,
   "id": "b1d5fbb2",
   "metadata": {},
   "outputs": [],
   "source": [
    "from fastapi import FastAPI, File, UploadFile, Query\n",
    "from fastapi.encoders import jsonable_encoder\n",
    "from pydantic import BaseModel\n",
    "import uvicorn\n",
    "import nest_asyncio\n",
    "from starlette.responses import StreamingResponse\n",
    "# fast ai imports\n",
    "from fastai.vision.all import *\n",
    "from fastai import *\n",
    "# cloudinary imports\n",
    "from cloudinary import CloudinaryImage\n",
    "import cloudinary.uploader\n",
    "import cloudinary.api\n",
    "# misc imports\n",
    "import shutil\n",
    "import io"
   ]
  },
  {
   "cell_type": "markdown",
   "id": "70097420",
   "metadata": {},
   "source": [
    "## Initialize `fast api`"
   ]
  },
  {
   "cell_type": "code",
   "execution_count": 2,
   "id": "37aa3e6a",
   "metadata": {},
   "outputs": [],
   "source": [
    "app = FastAPI()"
   ]
  },
  {
   "cell_type": "markdown",
   "id": "7a9bf567",
   "metadata": {},
   "source": [
    "## Load Model"
   ]
  },
  {
   "cell_type": "code",
   "execution_count": 3,
   "id": "9ec15342",
   "metadata": {},
   "outputs": [],
   "source": [
    "path = Path()\n",
    "learner = load_learner(path/'export.pkl', cpu=True)\n",
    "image_store_path = path/\"images/\""
   ]
  },
  {
   "cell_type": "markdown",
   "id": "ef1572ca",
   "metadata": {},
   "source": [
    "### <font color=\"red\">To use `Cloudinary` urls as a start for an image we need to [configure cloudinary](https://cloudinary.com/documentation/django_integration#configuration)</font>"
   ]
  },
  {
   "cell_type": "code",
   "execution_count": 5,
   "id": "54b6c87d",
   "metadata": {},
   "outputs": [],
   "source": [
    "#class CloudinaryLink(BaseModel):\n",
    "    #img_url: str"
   ]
  },
  {
   "cell_type": "code",
   "execution_count": 6,
   "id": "1502c7b5",
   "metadata": {},
   "outputs": [],
   "source": [
    "#@app.post(\"/cloudinary/\")\n",
    "#async def create_pred_from_url(img_url: CloudinaryLink):\n",
    "    #img = tensor(Image.open(img_url))\n",
    "    #pred, pred_idx, probs = learner.predict(img)\n",
    "    #return jsonable_encoder({\n",
    "        #f'Prediction: {pred}; Probability: {probs[pred_idx]:.04f}'\n",
    "    #})"
   ]
  },
  {
   "cell_type": "markdown",
   "id": "9b58d045",
   "metadata": {},
   "source": [
    "## Routes"
   ]
  },
  {
   "cell_type": "code",
   "execution_count": 4,
   "id": "6a1f01c1",
   "metadata": {},
   "outputs": [],
   "source": [
    "@app.get(\"/\")\n",
    "async def root():\n",
    "    return {\"message\": \"Fast API - Upload image and classify\"}"
   ]
  },
  {
   "cell_type": "markdown",
   "id": "e5ff74f8",
   "metadata": {},
   "source": [
    "### <font color=\"red\">Predict Route</font>"
   ]
  },
  {
   "cell_type": "code",
   "execution_count": 7,
   "id": "5500bce0",
   "metadata": {},
   "outputs": [],
   "source": [
    "@app.post(\"/predict/\")\n",
    "async def create_upload_file(file: UploadFile = File(...)):\n",
    "    temp_file = file.file\n",
    "    # save file to disk\n",
    "    with open(f\"{image_store_path}/{file.filename}\", \"wb\") as buffer:\n",
    "        shutil.copyfileobj(file.file, buffer)\n",
    "        #os.remove(file.filename)\n",
    "    # get file and prediction\n",
    "    img = tensor(Image.open(image_store_path/file.filename))\n",
    "    pred, pred_idx, probs = learner.predict(img)\n",
    "    # remove image from disk after predicition\n",
    "    os.remove(image_store_path/file.filename)\n",
    "    \n",
    "    return jsonable_encoder({\n",
    "        f'Prediction: {pred}; Probability: {probs[pred_idx]:.04f}'\n",
    "    })"
   ]
  },
  {
   "cell_type": "markdown",
   "id": "9b07679e",
   "metadata": {},
   "source": [
    "## Start the server "
   ]
  },
  {
   "cell_type": "code",
   "execution_count": 8,
   "id": "887930e7",
   "metadata": {},
   "outputs": [],
   "source": [
    "nest_asyncio.apply()"
   ]
  },
  {
   "cell_type": "code",
   "execution_count": null,
   "id": "46718a6e",
   "metadata": {},
   "outputs": [
    {
     "name": "stderr",
     "output_type": "stream",
     "text": [
      "INFO:     Started server process [5176]\n",
      "INFO:     Waiting for application startup.\n",
      "INFO:     Application startup complete.\n",
      "INFO:     Uvicorn running on http://127.0.0.1:9000 (Press CTRL+C to quit)\n"
     ]
    },
    {
     "data": {
      "text/html": [],
      "text/plain": [
       "<IPython.core.display.HTML object>"
      ]
     },
     "metadata": {},
     "output_type": "display_data"
    },
    {
     "name": "stdout",
     "output_type": "stream",
     "text": [
      "INFO:     127.0.0.1:47212 - \"POST /predict/ HTTP/1.1\" 200 OK\n"
     ]
    },
    {
     "data": {
      "text/html": [],
      "text/plain": [
       "<IPython.core.display.HTML object>"
      ]
     },
     "metadata": {},
     "output_type": "display_data"
    },
    {
     "name": "stdout",
     "output_type": "stream",
     "text": [
      "INFO:     127.0.0.1:47220 - \"POST /predict/ HTTP/1.1\" 200 OK\n"
     ]
    },
    {
     "data": {
      "text/html": [],
      "text/plain": [
       "<IPython.core.display.HTML object>"
      ]
     },
     "metadata": {},
     "output_type": "display_data"
    },
    {
     "name": "stdout",
     "output_type": "stream",
     "text": [
      "INFO:     127.0.0.1:47264 - \"POST /predict/ HTTP/1.1\" 200 OK\n"
     ]
    }
   ],
   "source": [
    "if __name__ == '__main__':    \n",
    "    uvicorn.run(app, host='127.0.0.1', port=9000)"
   ]
  }
 ],
 "metadata": {
  "kernelspec": {
   "display_name": "Python 3 (ipykernel)",
   "language": "python",
   "name": "python3"
  },
  "language_info": {
   "codemirror_mode": {
    "name": "ipython",
    "version": 3
   },
   "file_extension": ".py",
   "mimetype": "text/x-python",
   "name": "python",
   "nbconvert_exporter": "python",
   "pygments_lexer": "ipython3",
   "version": "3.8.12"
  }
 },
 "nbformat": 4,
 "nbformat_minor": 5
}
